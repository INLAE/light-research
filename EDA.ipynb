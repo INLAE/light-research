{
 "cells": [
  {
   "cell_type": "markdown",
   "id": "fcdb833d",
   "metadata": {},
   "source": [
    "# Импорт датасета"
   ]
  },
  {
   "cell_type": "code",
   "execution_count": 1,
   "id": "af3cc16e",
   "metadata": {
    "ExecuteTime": {
     "end_time": "2025-06-09T14:21:50.609357Z",
     "start_time": "2025-06-09T14:21:50.361399Z"
    }
   },
   "outputs": [],
   "source": [
    "import pandas as pd"
   ]
  },
  {
   "cell_type": "code",
   "execution_count": 2,
   "id": "179fadde",
   "metadata": {
    "ExecuteTime": {
     "end_time": "2025-06-09T14:21:50.668232Z",
     "start_time": "2025-06-09T14:21:50.662599Z"
    }
   },
   "outputs": [],
   "source": [
    "df = pd.read_csv(\"/Users/ivan/Downloads/data.csv\", sep=';')"
   ]
  },
  {
   "cell_type": "markdown",
   "id": "79c2b332",
   "metadata": {},
   "source": [
    "# Приступлю к EDA"
   ]
  },
  {
   "cell_type": "markdown",
   "id": "a05fd594",
   "metadata": {},
   "source": [
    "Гляну на данные"
   ]
  },
  {
   "cell_type": "code",
   "execution_count": 3,
   "id": "7c72aeda",
   "metadata": {
    "ExecuteTime": {
     "end_time": "2025-06-09T14:21:52.719860Z",
     "start_time": "2025-06-09T14:21:52.712664Z"
    }
   },
   "outputs": [
    {
     "name": "stdout",
     "output_type": "stream",
     "text": [
      "В датасете 3322 строк, 6 столбцов\n"
     ]
    }
   ],
   "source": [
    "print(f\"В датасете {df.shape[0]} строк, {df.shape[1]} столбцов\")"
   ]
  },
  {
   "cell_type": "code",
   "execution_count": 4,
   "id": "87ec6487",
   "metadata": {
    "ExecuteTime": {
     "end_time": "2025-06-09T14:21:53.235502Z",
     "start_time": "2025-06-09T14:21:53.202364Z"
    }
   },
   "outputs": [
    {
     "data": {
      "text/html": [
       "<div>\n",
       "<style scoped>\n",
       "    .dataframe tbody tr th:only-of-type {\n",
       "        vertical-align: middle;\n",
       "    }\n",
       "\n",
       "    .dataframe tbody tr th {\n",
       "        vertical-align: top;\n",
       "    }\n",
       "\n",
       "    .dataframe thead th {\n",
       "        text-align: right;\n",
       "    }\n",
       "</style>\n",
       "<table border=\"1\" class=\"dataframe\">\n",
       "  <thead>\n",
       "    <tr style=\"text-align: right;\">\n",
       "      <th></th>\n",
       "      <th>Показатель</th>\n",
       "      <th>Отдел</th>\n",
       "      <th>Вид</th>\n",
       "      <th>Период</th>\n",
       "      <th>Значение_1</th>\n",
       "      <th>Значение_2</th>\n",
       "    </tr>\n",
       "  </thead>\n",
       "  <tbody>\n",
       "    <tr>\n",
       "      <th>0</th>\n",
       "      <td>А_07</td>\n",
       "      <td>ПОДРАЗДЕЛЕНИЕ 1</td>\n",
       "      <td>СЕРВИС 1</td>\n",
       "      <td>31.01.2019</td>\n",
       "      <td>0,843</td>\n",
       "      <td>0,020</td>\n",
       "    </tr>\n",
       "    <tr>\n",
       "      <th>1</th>\n",
       "      <td>А_07</td>\n",
       "      <td>ПОДРАЗДЕЛЕНИЕ 1</td>\n",
       "      <td>СЕРВИС 1</td>\n",
       "      <td>28.02.2019</td>\n",
       "      <td>0,843</td>\n",
       "      <td>0,009</td>\n",
       "    </tr>\n",
       "    <tr>\n",
       "      <th>2</th>\n",
       "      <td>А_07</td>\n",
       "      <td>ПОДРАЗДЕЛЕНИЕ 1</td>\n",
       "      <td>СЕРВИС 1</td>\n",
       "      <td>31.03.2019</td>\n",
       "      <td>0,932</td>\n",
       "      <td>0,012</td>\n",
       "    </tr>\n",
       "    <tr>\n",
       "      <th>3</th>\n",
       "      <td>А_07</td>\n",
       "      <td>ПОДРАЗДЕЛЕНИЕ 1</td>\n",
       "      <td>СЕРВИС 1</td>\n",
       "      <td>30.04.2019</td>\n",
       "      <td>0,826</td>\n",
       "      <td>0,005</td>\n",
       "    </tr>\n",
       "    <tr>\n",
       "      <th>4</th>\n",
       "      <td>А_07</td>\n",
       "      <td>ПОДРАЗДЕЛЕНИЕ 1</td>\n",
       "      <td>СЕРВИС 1</td>\n",
       "      <td>31.05.2019</td>\n",
       "      <td>0,671</td>\n",
       "      <td>0,000</td>\n",
       "    </tr>\n",
       "    <tr>\n",
       "      <th>5</th>\n",
       "      <td>А_07</td>\n",
       "      <td>ПОДРАЗДЕЛЕНИЕ 1</td>\n",
       "      <td>СЕРВИС 1</td>\n",
       "      <td>30.06.2019</td>\n",
       "      <td>0,697</td>\n",
       "      <td>0,000</td>\n",
       "    </tr>\n",
       "    <tr>\n",
       "      <th>6</th>\n",
       "      <td>А_07</td>\n",
       "      <td>ПОДРАЗДЕЛЕНИЕ 1</td>\n",
       "      <td>СЕРВИС 1</td>\n",
       "      <td>31.07.2019</td>\n",
       "      <td>1,000</td>\n",
       "      <td>0,038</td>\n",
       "    </tr>\n",
       "    <tr>\n",
       "      <th>7</th>\n",
       "      <td>А_07</td>\n",
       "      <td>ПОДРАЗДЕЛЕНИЕ 1</td>\n",
       "      <td>СЕРВИС 1</td>\n",
       "      <td>31.08.2019</td>\n",
       "      <td>0,887</td>\n",
       "      <td>0,097</td>\n",
       "    </tr>\n",
       "    <tr>\n",
       "      <th>8</th>\n",
       "      <td>А_07</td>\n",
       "      <td>ПОДРАЗДЕЛЕНИЕ 1</td>\n",
       "      <td>СЕРВИС 1</td>\n",
       "      <td>30.09.2019</td>\n",
       "      <td>0,897</td>\n",
       "      <td>0,155</td>\n",
       "    </tr>\n",
       "    <tr>\n",
       "      <th>9</th>\n",
       "      <td>А_07</td>\n",
       "      <td>ПОДРАЗДЕЛЕНИЕ 1</td>\n",
       "      <td>СЕРВИС 1</td>\n",
       "      <td>31.10.2019</td>\n",
       "      <td>0,877</td>\n",
       "      <td>0,221</td>\n",
       "    </tr>\n",
       "  </tbody>\n",
       "</table>\n",
       "</div>"
      ],
      "text/plain": [
       "  Показатель            Отдел       Вид      Период Значение_1 Значение_2\n",
       "0       А_07  ПОДРАЗДЕЛЕНИЕ 1  СЕРВИС 1  31.01.2019      0,843      0,020\n",
       "1       А_07  ПОДРАЗДЕЛЕНИЕ 1  СЕРВИС 1  28.02.2019      0,843      0,009\n",
       "2       А_07  ПОДРАЗДЕЛЕНИЕ 1  СЕРВИС 1  31.03.2019      0,932      0,012\n",
       "3       А_07  ПОДРАЗДЕЛЕНИЕ 1  СЕРВИС 1  30.04.2019      0,826      0,005\n",
       "4       А_07  ПОДРАЗДЕЛЕНИЕ 1  СЕРВИС 1  31.05.2019      0,671      0,000\n",
       "5       А_07  ПОДРАЗДЕЛЕНИЕ 1  СЕРВИС 1  30.06.2019      0,697      0,000\n",
       "6       А_07  ПОДРАЗДЕЛЕНИЕ 1  СЕРВИС 1  31.07.2019      1,000      0,038\n",
       "7       А_07  ПОДРАЗДЕЛЕНИЕ 1  СЕРВИС 1  31.08.2019      0,887      0,097\n",
       "8       А_07  ПОДРАЗДЕЛЕНИЕ 1  СЕРВИС 1  30.09.2019      0,897      0,155\n",
       "9       А_07  ПОДРАЗДЕЛЕНИЕ 1  СЕРВИС 1  31.10.2019      0,877      0,221"
      ]
     },
     "execution_count": 4,
     "metadata": {},
     "output_type": "execute_result"
    }
   ],
   "source": [
    "df.head(10)  "
   ]
  },
  {
   "cell_type": "code",
   "execution_count": 5,
   "id": "2eb55c0d",
   "metadata": {
    "ExecuteTime": {
     "end_time": "2025-06-09T14:21:53.710465Z",
     "start_time": "2025-06-09T14:21:53.688861Z"
    }
   },
   "outputs": [
    {
     "name": "stdout",
     "output_type": "stream",
     "text": [
      "<class 'pandas.core.frame.DataFrame'>\n",
      "RangeIndex: 3322 entries, 0 to 3321\n",
      "Data columns (total 6 columns):\n",
      " #   Column      Non-Null Count  Dtype \n",
      "---  ------      --------------  ----- \n",
      " 0   Показатель  3322 non-null   object\n",
      " 1   Отдел       3322 non-null   object\n",
      " 2   Вид         3322 non-null   object\n",
      " 3   Период      3322 non-null   object\n",
      " 4   Значение_1  3318 non-null   object\n",
      " 5   Значение_2  3319 non-null   object\n",
      "dtypes: object(6)\n",
      "memory usage: 155.8+ KB\n"
     ]
    }
   ],
   "source": [
    "df.info()"
   ]
  },
  {
   "cell_type": "markdown",
   "id": "f09cf267",
   "metadata": {},
   "source": [
    "## Видно, что тип даты object, хорошо бы сделать datetime для работы с датой"
   ]
  },
  {
   "cell_type": "code",
   "execution_count": 6,
   "id": "9c73e2f0",
   "metadata": {
    "ExecuteTime": {
     "end_time": "2025-06-09T14:21:56.338310Z",
     "start_time": "2025-06-09T14:21:56.319606Z"
    }
   },
   "outputs": [],
   "source": [
    "df['Период'] = pd.to_datetime(df['Период'], dayfirst=True)"
   ]
  },
  {
   "cell_type": "code",
   "execution_count": 7,
   "id": "17bd917e",
   "metadata": {
    "ExecuteTime": {
     "end_time": "2025-06-09T14:21:56.761440Z",
     "start_time": "2025-06-09T14:21:56.745240Z"
    }
   },
   "outputs": [
    {
     "name": "stdout",
     "output_type": "stream",
     "text": [
      "<class 'pandas.core.frame.DataFrame'>\n",
      "RangeIndex: 3322 entries, 0 to 3321\n",
      "Data columns (total 6 columns):\n",
      " #   Column      Non-Null Count  Dtype         \n",
      "---  ------      --------------  -----         \n",
      " 0   Показатель  3322 non-null   object        \n",
      " 1   Отдел       3322 non-null   object        \n",
      " 2   Вид         3322 non-null   object        \n",
      " 3   Период      3322 non-null   datetime64[ns]\n",
      " 4   Значение_1  3318 non-null   object        \n",
      " 5   Значение_2  3319 non-null   object        \n",
      "dtypes: datetime64[ns](1), object(5)\n",
      "memory usage: 155.8+ KB\n"
     ]
    }
   ],
   "source": [
    "df.info()"
   ]
  },
  {
   "cell_type": "markdown",
   "id": "35368c77",
   "metadata": {},
   "source": [
    "## Для удобства работы лучше переименовать столбцы на английский"
   ]
  },
  {
   "cell_type": "code",
   "execution_count": 8,
   "id": "70ae0e22",
   "metadata": {
    "ExecuteTime": {
     "end_time": "2025-06-09T14:21:58.658632Z",
     "start_time": "2025-06-09T14:21:58.649356Z"
    }
   },
   "outputs": [],
   "source": [
    "ren_map = {\n",
    "    'Показатель': 'indicator',\n",
    "    'Отдел':'department',\n",
    "    'Вид':'category',\n",
    "    'Период':'period',\n",
    "    'Значение_1':'value1',\n",
    "    'Значение_2':'value2'\n",
    "}\n",
    "df.rename(columns=ren_map, inplace=True)"
   ]
  },
  {
   "cell_type": "code",
   "execution_count": 9,
   "id": "511ad9d1",
   "metadata": {
    "ExecuteTime": {
     "end_time": "2025-06-09T14:21:59.580889Z",
     "start_time": "2025-06-09T14:21:59.569028Z"
    }
   },
   "outputs": [
    {
     "data": {
      "text/plain": [
       "Index(['indicator', 'department', 'category', 'period', 'value1', 'value2'], dtype='object')"
      ]
     },
     "execution_count": 9,
     "metadata": {},
     "output_type": "execute_result"
    }
   ],
   "source": [
    "df.columns"
   ]
  },
  {
   "cell_type": "markdown",
   "id": "9a4f9917",
   "metadata": {},
   "source": [
    "## Интересно какова доля пропусков в данных, ежели имеются"
   ]
  },
  {
   "cell_type": "code",
   "execution_count": 10,
   "id": "7d331fb2",
   "metadata": {
    "ExecuteTime": {
     "end_time": "2025-06-09T14:22:02.452626Z",
     "start_time": "2025-06-09T14:22:02.435953Z"
    }
   },
   "outputs": [
    {
     "data": {
      "text/plain": [
       "indicator     0.000000\n",
       "department    0.000000\n",
       "category      0.000000\n",
       "period        0.000000\n",
       "value1        0.120409\n",
       "value2        0.090307\n",
       "dtype: float64"
      ]
     },
     "execution_count": 10,
     "metadata": {},
     "output_type": "execute_result"
    }
   ],
   "source": [
    "df.isna().sum()/len(df) * 100"
   ]
  },
  {
   "cell_type": "markdown",
   "id": "8536bc94",
   "metadata": {},
   "source": [
    "## А есть ли дубликаты?"
   ]
  },
  {
   "cell_type": "code",
   "execution_count": 11,
   "id": "7cc28c40",
   "metadata": {
    "ExecuteTime": {
     "end_time": "2025-06-09T14:22:03.640343Z",
     "start_time": "2025-06-09T14:22:03.625432Z"
    }
   },
   "outputs": [
    {
     "data": {
      "text/plain": [
       "0"
      ]
     },
     "execution_count": 11,
     "metadata": {},
     "output_type": "execute_result"
    }
   ],
   "source": [
    "df.duplicated().sum()"
   ]
  },
  {
   "cell_type": "markdown",
   "id": "81084abf",
   "metadata": {},
   "source": [
    "### Отлично, их нет"
   ]
  },
  {
   "cell_type": "markdown",
   "id": "5a2e10a5",
   "metadata": {},
   "source": [
    "#  Удалю строки с пропусками данных, так как их доля невелика\n",
    "Ранее было установлено, что доля пропущенных значений\n",
    "\n",
    "- value1 пропущено всего 0.12% строк\n",
    "- value2 пропущено всего 0.09% строк\n",
    "\n",
    "Поскольку это очень небольшая доля (обычно если пропусков менее 1%, то их удаление не приводит к потере значимых данных и не исказит ничего), можно спокойно убирать строки\n"
   ]
  },
  {
   "cell_type": "code",
   "execution_count": 12,
   "id": "6f9e809b",
   "metadata": {
    "ExecuteTime": {
     "end_time": "2025-06-09T14:22:07.022712Z",
     "start_time": "2025-06-09T14:22:07.007118Z"
    }
   },
   "outputs": [
    {
     "name": "stdout",
     "output_type": "stream",
     "text": [
      "Размер после удаления строк с пропусками (3318, 6)\n"
     ]
    }
   ],
   "source": [
    "df.dropna(inplace=True)\n",
    "print(f\"Размер после удаления строк с пропусками {df.shape}\")"
   ]
  },
  {
   "cell_type": "markdown",
   "id": "e6a43cfd",
   "metadata": {},
   "source": [
    "# Извлеку отдельно в столбцы год и месяц, это может пригодиться в будущем"
   ]
  },
  {
   "cell_type": "code",
   "execution_count": 13,
   "id": "26c8400c",
   "metadata": {
    "ExecuteTime": {
     "end_time": "2025-06-09T14:22:09.595937Z",
     "start_time": "2025-06-09T14:22:09.582294Z"
    }
   },
   "outputs": [],
   "source": [
    "df['year'] = df['period'].dt.year\n",
    "df['month'] = df['period'].dt.month"
   ]
  },
  {
   "cell_type": "code",
   "execution_count": 14,
   "id": "70beac02",
   "metadata": {
    "ExecuteTime": {
     "end_time": "2025-06-09T14:22:10.330220Z",
     "start_time": "2025-06-09T14:22:10.311006Z"
    }
   },
   "outputs": [
    {
     "data": {
      "text/html": [
       "<div>\n",
       "<style scoped>\n",
       "    .dataframe tbody tr th:only-of-type {\n",
       "        vertical-align: middle;\n",
       "    }\n",
       "\n",
       "    .dataframe tbody tr th {\n",
       "        vertical-align: top;\n",
       "    }\n",
       "\n",
       "    .dataframe thead th {\n",
       "        text-align: right;\n",
       "    }\n",
       "</style>\n",
       "<table border=\"1\" class=\"dataframe\">\n",
       "  <thead>\n",
       "    <tr style=\"text-align: right;\">\n",
       "      <th></th>\n",
       "      <th>indicator</th>\n",
       "      <th>department</th>\n",
       "      <th>category</th>\n",
       "      <th>period</th>\n",
       "      <th>value1</th>\n",
       "      <th>value2</th>\n",
       "      <th>year</th>\n",
       "      <th>month</th>\n",
       "    </tr>\n",
       "  </thead>\n",
       "  <tbody>\n",
       "    <tr>\n",
       "      <th>0</th>\n",
       "      <td>А_07</td>\n",
       "      <td>ПОДРАЗДЕЛЕНИЕ 1</td>\n",
       "      <td>СЕРВИС 1</td>\n",
       "      <td>2019-01-31</td>\n",
       "      <td>0,843</td>\n",
       "      <td>0,020</td>\n",
       "      <td>2019</td>\n",
       "      <td>1</td>\n",
       "    </tr>\n",
       "    <tr>\n",
       "      <th>1</th>\n",
       "      <td>А_07</td>\n",
       "      <td>ПОДРАЗДЕЛЕНИЕ 1</td>\n",
       "      <td>СЕРВИС 1</td>\n",
       "      <td>2019-02-28</td>\n",
       "      <td>0,843</td>\n",
       "      <td>0,009</td>\n",
       "      <td>2019</td>\n",
       "      <td>2</td>\n",
       "    </tr>\n",
       "    <tr>\n",
       "      <th>2</th>\n",
       "      <td>А_07</td>\n",
       "      <td>ПОДРАЗДЕЛЕНИЕ 1</td>\n",
       "      <td>СЕРВИС 1</td>\n",
       "      <td>2019-03-31</td>\n",
       "      <td>0,932</td>\n",
       "      <td>0,012</td>\n",
       "      <td>2019</td>\n",
       "      <td>3</td>\n",
       "    </tr>\n",
       "    <tr>\n",
       "      <th>3</th>\n",
       "      <td>А_07</td>\n",
       "      <td>ПОДРАЗДЕЛЕНИЕ 1</td>\n",
       "      <td>СЕРВИС 1</td>\n",
       "      <td>2019-04-30</td>\n",
       "      <td>0,826</td>\n",
       "      <td>0,005</td>\n",
       "      <td>2019</td>\n",
       "      <td>4</td>\n",
       "    </tr>\n",
       "    <tr>\n",
       "      <th>4</th>\n",
       "      <td>А_07</td>\n",
       "      <td>ПОДРАЗДЕЛЕНИЕ 1</td>\n",
       "      <td>СЕРВИС 1</td>\n",
       "      <td>2019-05-31</td>\n",
       "      <td>0,671</td>\n",
       "      <td>0,000</td>\n",
       "      <td>2019</td>\n",
       "      <td>5</td>\n",
       "    </tr>\n",
       "  </tbody>\n",
       "</table>\n",
       "</div>"
      ],
      "text/plain": [
       "  indicator       department  category     period value1 value2  year  month\n",
       "0      А_07  ПОДРАЗДЕЛЕНИЕ 1  СЕРВИС 1 2019-01-31  0,843  0,020  2019      1\n",
       "1      А_07  ПОДРАЗДЕЛЕНИЕ 1  СЕРВИС 1 2019-02-28  0,843  0,009  2019      2\n",
       "2      А_07  ПОДРАЗДЕЛЕНИЕ 1  СЕРВИС 1 2019-03-31  0,932  0,012  2019      3\n",
       "3      А_07  ПОДРАЗДЕЛЕНИЕ 1  СЕРВИС 1 2019-04-30  0,826  0,005  2019      4\n",
       "4      А_07  ПОДРАЗДЕЛЕНИЕ 1  СЕРВИС 1 2019-05-31  0,671  0,000  2019      5"
      ]
     },
     "execution_count": 14,
     "metadata": {},
     "output_type": "execute_result"
    }
   ],
   "source": [
    "df.head()"
   ]
  },
  {
   "cell_type": "markdown",
   "id": "39fcc128",
   "metadata": {},
   "source": [
    "# Посмотрим на распределение числовых значений"
   ]
  },
  {
   "cell_type": "code",
   "execution_count": 15,
   "id": "50bd8306",
   "metadata": {
    "ExecuteTime": {
     "end_time": "2025-06-09T14:22:15.157353Z",
     "start_time": "2025-06-09T14:22:15.134461Z"
    }
   },
   "outputs": [
    {
     "name": "stdout",
     "output_type": "stream",
     "text": [
      "            value1       value2\n",
      "count  3318.000000  3318.000000\n",
      "mean      0.324033     0.272986\n",
      "std       0.330834     0.314214\n",
      "min       0.000000     0.000000\n",
      "25%       0.000000     0.000000\n",
      "50%       0.214000     0.125000\n",
      "75%       0.590000     0.507000\n",
      "max       1.000000     1.000000\n"
     ]
    }
   ],
   "source": [
    "# Просто заменим объекты с запятой во float формат через замену запятой на точку\n",
    "for col in ['value1', 'value2']:\n",
    "    df[col] = df[col].astype(str).str.replace(',', '.').astype(float)\n",
    "\n",
    "# Проверим статистику\n",
    "print(df[['value1','value2']].describe())"
   ]
  },
  {
   "cell_type": "markdown",
   "id": "f81066d1",
   "metadata": {},
   "source": [
    "## Здесь интерсно глянуть, сколько уникальных значений у категориальных признаков и посмотрим на топ 5 самых частых"
   ]
  },
  {
   "cell_type": "code",
   "execution_count": 16,
   "id": "664089c6",
   "metadata": {
    "ExecuteTime": {
     "end_time": "2025-06-09T14:22:19.283577Z",
     "start_time": "2025-06-09T14:22:19.266647Z"
    },
    "scrolled": false
   },
   "outputs": [
    {
     "name": "stdout",
     "output_type": "stream",
     "text": [
      "indicator: 123 уровней\n",
      "indicator\n",
      "А_07    36\n",
      "Ж_09    36\n",
      "А_08    36\n",
      "Ж_16    36\n",
      "Ж_15    36\n",
      "Name: count, dtype: int64 \n",
      "\n",
      "department: 13 уровней\n",
      "department\n",
      "ПОДРАЗДЕЛЕНИЕ 2     667\n",
      "ПОДРАЗДЕЛЕНИЕ 1     579\n",
      "ПОДРАЗДЕЛЕНИЕ 7     531\n",
      "ПОДРАЗДЕЛЕНИЕ 5     381\n",
      "ПОДРАЗДЕЛЕНИЕ 13    272\n",
      "Name: count, dtype: int64 \n",
      "\n",
      "category: 123 уровней\n",
      "category\n",
      "СЕРВИС 1     36\n",
      "СЕРВИС 75    36\n",
      "СЕРВИС 2     36\n",
      "СЕРВИС 82    36\n",
      "СЕРВИС 81    36\n",
      "Name: count, dtype: int64 \n",
      "\n"
     ]
    }
   ],
   "source": [
    "for col in ['indicator', 'department', 'category']:\n",
    "    print(f\"{col}: {df[col].nunique()} уровней\")\n",
    "    print(df[col].value_counts().head(5), \"\\n\")"
   ]
  },
  {
   "cell_type": "markdown",
   "id": "6130788e",
   "metadata": {},
   "source": [
    "1] **indicator** 123 разных показателя. При этом топ-5 по равному числу записей, что говорит о равном распределении метрик\n",
    "\n",
    "2] **department**: 13 подразделений. Наблюдается разброс частот, есть баланс, но некоторые отделы заметно крупнее других.\n",
    "\n",
    "3] **category** 123 уровня с равным числом записей (по 36 для топ-5), что опять говорит о том, что каждая категоря рассматривается одинаково по количеству периодов\n",
    "\n",
    "В целом если делать one-hot encoding в будущем, то высокая вариантивность `indicator` и `category` может негативно сказаться на представлении данных, тк будет слишком много столбцов. Можно будет какую-то часть объединить в одну категорию и уменьшить 123 до 10...\n"
   ]
  },
  {
   "cell_type": "markdown",
   "id": "9aefb45c",
   "metadata": {},
   "source": [
    "# Посмотрим на разброс данных в боксплоте"
   ]
  },
  {
   "cell_type": "code",
   "execution_count": 17,
   "id": "8d9998da",
   "metadata": {
    "ExecuteTime": {
     "end_time": "2025-06-09T14:22:22.139068Z",
     "start_time": "2025-06-09T14:22:21.890179Z"
    }
   },
   "outputs": [],
   "source": [
    "import matplotlib.pyplot as plt"
   ]
  },
  {
   "cell_type": "code",
   "execution_count": 18,
   "id": "b64ad483",
   "metadata": {
    "ExecuteTime": {
     "end_time": "2025-06-09T14:22:22.277997Z",
     "start_time": "2025-06-09T14:22:22.210400Z"
    },
    "scrolled": false
   },
   "outputs": [
    {
     "data": {
      "image/png": "[encoded data removed]",
      "text/plain": [
       "<Figure size 600x400 with 1 Axes>"
      ]
     },
     "metadata": {},
     "output_type": "display_data"
    }
   ],
   "source": [
    "df[['value1','value2']].plot.box(figsize=(6,4))\n",
    "plt.ylabel('Значение')\n",
    "plt.show()"
   ]
  },
  {
   "cell_type": "markdown",
   "id": "bad65a50",
   "metadata": {},
   "source": [
    "> Половина наблюдений у value1 сосредоточено в диапазоне [0; 0.6], у value2 — чуть уже.\n",
    "\n",
    "> Большая часть значений сосредоточена в нижних диапазонах, при этом есть относительно редкие, но не гигантские выбросы вблизи 1.\t\n",
    "\n",
    "> Особых выбросов нет, регуляризация не требуется и выбросы удалять тоже не надо, много мелких значений без токсичных выбросов. Их можно сразу подавать в модель, я считаю."
   ]
  },
  {
   "cell_type": "markdown",
   "id": "98d447f5",
   "metadata": {},
   "source": [
    "## Раз мы говорим о потеницальном применении в модели машинного обучения, то почему бы сразу не закодировать категориальные признаки?"
   ]
  },
  {
   "cell_type": "code",
   "execution_count": 19,
   "id": "c0b715f9",
   "metadata": {
    "ExecuteTime": {
     "end_time": "2025-06-09T14:22:29.686812Z",
     "start_time": "2025-06-09T14:22:29.668761Z"
    }
   },
   "outputs": [
    {
     "name": "stdout",
     "output_type": "stream",
     "text": [
      "Shape датасета признаков one-hot encoding (3318, 261)\n"
     ]
    }
   ],
   "source": [
    "df_final = pd.get_dummies(df,\n",
    "                          columns=['indicator','department','category'],\n",
    "                          drop_first=True)\n",
    "print(f\"Shape датасета признаков one-hot encoding {df_final.shape}\")"
   ]
  },
  {
   "cell_type": "code",
   "execution_count": 20,
   "id": "f44035d9",
   "metadata": {
    "ExecuteTime": {
     "end_time": "2025-06-09T14:22:29.898694Z",
     "start_time": "2025-06-09T14:22:29.878206Z"
    }
   },
   "outputs": [
    {
     "data": {
      "text/html": [
       "<div>\n",
       "<style scoped>\n",
       "    .dataframe tbody tr th:only-of-type {\n",
       "        vertical-align: middle;\n",
       "    }\n",
       "\n",
       "    .dataframe tbody tr th {\n",
       "        vertical-align: top;\n",
       "    }\n",
       "\n",
       "    .dataframe thead th {\n",
       "        text-align: right;\n",
       "    }\n",
       "</style>\n",
       "<table border=\"1\" class=\"dataframe\">\n",
       "  <thead>\n",
       "    <tr style=\"text-align: right;\">\n",
       "      <th></th>\n",
       "      <th>period</th>\n",
       "      <th>value1</th>\n",
       "      <th>value2</th>\n",
       "      <th>year</th>\n",
       "      <th>month</th>\n",
       "      <th>indicator_А_08</th>\n",
       "      <th>indicator_А_09</th>\n",
       "      <th>indicator_А_10</th>\n",
       "      <th>indicator_А_12</th>\n",
       "      <th>indicator_А_14</th>\n",
       "      <th>...</th>\n",
       "      <th>category_СЕРВИС 90</th>\n",
       "      <th>category_СЕРВИС 91</th>\n",
       "      <th>category_СЕРВИС 92</th>\n",
       "      <th>category_СЕРВИС 93</th>\n",
       "      <th>category_СЕРВИС 94</th>\n",
       "      <th>category_СЕРВИС 95</th>\n",
       "      <th>category_СЕРВИС 96</th>\n",
       "      <th>category_СЕРВИС 97</th>\n",
       "      <th>category_СЕРВИС 98</th>\n",
       "      <th>category_СЕРВИС 99</th>\n",
       "    </tr>\n",
       "  </thead>\n",
       "  <tbody>\n",
       "    <tr>\n",
       "      <th>0</th>\n",
       "      <td>2019-01-31</td>\n",
       "      <td>0.843</td>\n",
       "      <td>0.020</td>\n",
       "      <td>2019</td>\n",
       "      <td>1</td>\n",
       "      <td>False</td>\n",
       "      <td>False</td>\n",
       "      <td>False</td>\n",
       "      <td>False</td>\n",
       "      <td>False</td>\n",
       "      <td>...</td>\n",
       "      <td>False</td>\n",
       "      <td>False</td>\n",
       "      <td>False</td>\n",
       "      <td>False</td>\n",
       "      <td>False</td>\n",
       "      <td>False</td>\n",
       "      <td>False</td>\n",
       "      <td>False</td>\n",
       "      <td>False</td>\n",
       "      <td>False</td>\n",
       "    </tr>\n",
       "    <tr>\n",
       "      <th>1</th>\n",
       "      <td>2019-02-28</td>\n",
       "      <td>0.843</td>\n",
       "      <td>0.009</td>\n",
       "      <td>2019</td>\n",
       "      <td>2</td>\n",
       "      <td>False</td>\n",
       "      <td>False</td>\n",
       "      <td>False</td>\n",
       "      <td>False</td>\n",
       "      <td>False</td>\n",
       "      <td>...</td>\n",
       "      <td>False</td>\n",
       "      <td>False</td>\n",
       "      <td>False</td>\n",
       "      <td>False</td>\n",
       "      <td>False</td>\n",
       "      <td>False</td>\n",
       "      <td>False</td>\n",
       "      <td>False</td>\n",
       "      <td>False</td>\n",
       "      <td>False</td>\n",
       "    </tr>\n",
       "    <tr>\n",
       "      <th>2</th>\n",
       "      <td>2019-03-31</td>\n",
       "      <td>0.932</td>\n",
       "      <td>0.012</td>\n",
       "      <td>2019</td>\n",
       "      <td>3</td>\n",
       "      <td>False</td>\n",
       "      <td>False</td>\n",
       "      <td>False</td>\n",
       "      <td>False</td>\n",
       "      <td>False</td>\n",
       "      <td>...</td>\n",
       "      <td>False</td>\n",
       "      <td>False</td>\n",
       "      <td>False</td>\n",
       "      <td>False</td>\n",
       "      <td>False</td>\n",
       "      <td>False</td>\n",
       "      <td>False</td>\n",
       "      <td>False</td>\n",
       "      <td>False</td>\n",
       "      <td>False</td>\n",
       "    </tr>\n",
       "  </tbody>\n",
       "</table>\n",
       "<p>3 rows × 261 columns</p>\n",
       "</div>"
      ],
      "text/plain": [
       "      period  value1  value2  year  month  indicator_А_08  indicator_А_09  \\\n",
       "0 2019-01-31   0.843   0.020  2019      1           False           False   \n",
       "1 2019-02-28   0.843   0.009  2019      2           False           False   \n",
       "2 2019-03-31   0.932   0.012  2019      3           False           False   \n",
       "\n",
       "   indicator_А_10  indicator_А_12  indicator_А_14  ...  category_СЕРВИС 90  \\\n",
       "0           False           False           False  ...               False   \n",
       "1           False           False           False  ...               False   \n",
       "2           False           False           False  ...               False   \n",
       "\n",
       "   category_СЕРВИС 91  category_СЕРВИС 92  category_СЕРВИС 93  \\\n",
       "0               False               False               False   \n",
       "1               False               False               False   \n",
       "2               False               False               False   \n",
       "\n",
       "   category_СЕРВИС 94  category_СЕРВИС 95  category_СЕРВИС 96  \\\n",
       "0               False               False               False   \n",
       "1               False               False               False   \n",
       "2               False               False               False   \n",
       "\n",
       "   category_СЕРВИС 97  category_СЕРВИС 98  category_СЕРВИС 99  \n",
       "0               False               False               False  \n",
       "1               False               False               False  \n",
       "2               False               False               False  \n",
       "\n",
       "[3 rows x 261 columns]"
      ]
     },
     "execution_count": 20,
     "metadata": {},
     "output_type": "execute_result"
    }
   ],
   "source": [
    "df_final.head(3)"
   ]
  }
 ],
 "metadata": {
  "kernelspec": {
   "display_name": "Python 3.9 (tensorflow)",
   "language": "python",
   "name": "tensorflow"
  },
  "language_info": {
   "codemirror_mode": {
    "name": "ipython",
    "version": 3
   },
   "file_extension": ".py",
   "mimetype": "text/x-python",
   "name": "python",
   "nbconvert_exporter": "python",
   "pygments_lexer": "ipython3",
   "version": "3.9.13"
  },
  "toc": {
   "base_numbering": 1,
   "nav_menu": {},
   "number_sections": true,
   "sideBar": true,
   "skip_h1_title": false,
   "title_cell": "Table of Contents",
   "title_sidebar": "Contents",
   "toc_cell": false,
   "toc_position": {},
   "toc_section_display": true,
   "toc_window_display": false
  },
  "varInspector": {
   "cols": {
    "lenName": 16,
    "lenType": 16,
    "lenVar": 40
   },
   "kernels_config": {
    "python": {
     "delete_cmd_postfix": "",
     "delete_cmd_prefix": "del ",
     "library": "var_list.py",
     "varRefreshCmd": "print(var_dic_list())"
    },
    "r": {
     "delete_cmd_postfix": ") ",
     "delete_cmd_prefix": "rm(",
     "library": "var_list.r",
     "varRefreshCmd": "cat(var_dic_list()) "
    }
   },
   "types_to_exclude": [
    "module",
    "function",
    "builtin_function_or_method",
    "instance",
    "_Feature"
   ],
   "window_display": false
  }
 },
 "nbformat": 4,
 "nbformat_minor": 5
}
