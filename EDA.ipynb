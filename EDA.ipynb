{
 "cells": [
  {
   "cell_type": "code",
   "execution_count": 15,
   "id": "6d5e7413",
   "metadata": {
    "ExecuteTime": {
     "end_time": "2025-06-09T11:19:34.695450Z",
     "start_time": "2025-06-09T11:19:34.686978Z"
    }
   },
   "outputs": [],
   "source": [
    "import pandas as pd"
   ]
  },
  {
   "cell_type": "code",
   "execution_count": 8,
   "id": "7636544f",
   "metadata": {
    "ExecuteTime": {
     "end_time": "2025-06-09T09:08:57.573930Z",
     "start_time": "2025-06-09T09:08:57.552656Z"
    }
   },
   "outputs": [],
   "source": [
    "df = pd.read_csv(\"/Users/ivan/Downloads/data.csv\", sep=';')"
   ]
  },
  {
   "cell_type": "code",
   "execution_count": 11,
   "id": "d4e9341f",
   "metadata": {
    "ExecuteTime": {
     "end_time": "2025-06-09T09:10:14.456891Z",
     "start_time": "2025-06-09T09:10:14.447460Z"
    }
   },
   "outputs": [
    {
     "name": "stdout",
     "output_type": "stream",
     "text": [
      "Размер датасета: 3322 строк, 6 столбцов\n"
     ]
    }
   ],
   "source": [
    "print(f\"Размер датасета: {df.shape[0]} строк, {df.shape[1]} столбцов\")"
   ]
  },
  {
   "cell_type": "markdown",
   "id": "d6be7720",
   "metadata": {},
   "source": [
    "# Приступлю к EDA"
   ]
  },
  {
   "cell_type": "markdown",
   "id": "636d86ca",
   "metadata": {},
   "source": [
    "Посмотрим на данные"
   ]
  },
  {
   "cell_type": "code",
   "execution_count": 12,
   "id": "f08febef",
   "metadata": {
    "ExecuteTime": {
     "end_time": "2025-06-09T09:10:46.186301Z",
     "start_time": "2025-06-09T09:10:46.164131Z"
    }
   },
   "outputs": [
    {
     "data": {
      "text/html": [
       "<div>\n",
       "<style scoped>\n",
       "    .dataframe tbody tr th:only-of-type {\n",
       "        vertical-align: middle;\n",
       "    }\n",
       "\n",
       "    .dataframe tbody tr th {\n",
       "        vertical-align: top;\n",
       "    }\n",
       "\n",
       "    .dataframe thead th {\n",
       "        text-align: right;\n",
       "    }\n",
       "</style>\n",
       "<table border=\"1\" class=\"dataframe\">\n",
       "  <thead>\n",
       "    <tr style=\"text-align: right;\">\n",
       "      <th></th>\n",
       "      <th>Показатель</th>\n",
       "      <th>Отдел</th>\n",
       "      <th>Вид</th>\n",
       "      <th>Период</th>\n",
       "      <th>Значение_1</th>\n",
       "      <th>Значение_2</th>\n",
       "    </tr>\n",
       "  </thead>\n",
       "  <tbody>\n",
       "    <tr>\n",
       "      <th>0</th>\n",
       "      <td>А_07</td>\n",
       "      <td>ПОДРАЗДЕЛЕНИЕ 1</td>\n",
       "      <td>СЕРВИС 1</td>\n",
       "      <td>31.01.2019</td>\n",
       "      <td>0,843</td>\n",
       "      <td>0,020</td>\n",
       "    </tr>\n",
       "    <tr>\n",
       "      <th>1</th>\n",
       "      <td>А_07</td>\n",
       "      <td>ПОДРАЗДЕЛЕНИЕ 1</td>\n",
       "      <td>СЕРВИС 1</td>\n",
       "      <td>28.02.2019</td>\n",
       "      <td>0,843</td>\n",
       "      <td>0,009</td>\n",
       "    </tr>\n",
       "    <tr>\n",
       "      <th>2</th>\n",
       "      <td>А_07</td>\n",
       "      <td>ПОДРАЗДЕЛЕНИЕ 1</td>\n",
       "      <td>СЕРВИС 1</td>\n",
       "      <td>31.03.2019</td>\n",
       "      <td>0,932</td>\n",
       "      <td>0,012</td>\n",
       "    </tr>\n",
       "    <tr>\n",
       "      <th>3</th>\n",
       "      <td>А_07</td>\n",
       "      <td>ПОДРАЗДЕЛЕНИЕ 1</td>\n",
       "      <td>СЕРВИС 1</td>\n",
       "      <td>30.04.2019</td>\n",
       "      <td>0,826</td>\n",
       "      <td>0,005</td>\n",
       "    </tr>\n",
       "    <tr>\n",
       "      <th>4</th>\n",
       "      <td>А_07</td>\n",
       "      <td>ПОДРАЗДЕЛЕНИЕ 1</td>\n",
       "      <td>СЕРВИС 1</td>\n",
       "      <td>31.05.2019</td>\n",
       "      <td>0,671</td>\n",
       "      <td>0,000</td>\n",
       "    </tr>\n",
       "    <tr>\n",
       "      <th>5</th>\n",
       "      <td>А_07</td>\n",
       "      <td>ПОДРАЗДЕЛЕНИЕ 1</td>\n",
       "      <td>СЕРВИС 1</td>\n",
       "      <td>30.06.2019</td>\n",
       "      <td>0,697</td>\n",
       "      <td>0,000</td>\n",
       "    </tr>\n",
       "    <tr>\n",
       "      <th>6</th>\n",
       "      <td>А_07</td>\n",
       "      <td>ПОДРАЗДЕЛЕНИЕ 1</td>\n",
       "      <td>СЕРВИС 1</td>\n",
       "      <td>31.07.2019</td>\n",
       "      <td>1,000</td>\n",
       "      <td>0,038</td>\n",
       "    </tr>\n",
       "    <tr>\n",
       "      <th>7</th>\n",
       "      <td>А_07</td>\n",
       "      <td>ПОДРАЗДЕЛЕНИЕ 1</td>\n",
       "      <td>СЕРВИС 1</td>\n",
       "      <td>31.08.2019</td>\n",
       "      <td>0,887</td>\n",
       "      <td>0,097</td>\n",
       "    </tr>\n",
       "    <tr>\n",
       "      <th>8</th>\n",
       "      <td>А_07</td>\n",
       "      <td>ПОДРАЗДЕЛЕНИЕ 1</td>\n",
       "      <td>СЕРВИС 1</td>\n",
       "      <td>30.09.2019</td>\n",
       "      <td>0,897</td>\n",
       "      <td>0,155</td>\n",
       "    </tr>\n",
       "    <tr>\n",
       "      <th>9</th>\n",
       "      <td>А_07</td>\n",
       "      <td>ПОДРАЗДЕЛЕНИЕ 1</td>\n",
       "      <td>СЕРВИС 1</td>\n",
       "      <td>31.10.2019</td>\n",
       "      <td>0,877</td>\n",
       "      <td>0,221</td>\n",
       "    </tr>\n",
       "  </tbody>\n",
       "</table>\n",
       "</div>"
      ],
      "text/plain": [
       "  Показатель            Отдел       Вид      Период Значение_1 Значение_2\n",
       "0       А_07  ПОДРАЗДЕЛЕНИЕ 1  СЕРВИС 1  31.01.2019      0,843      0,020\n",
       "1       А_07  ПОДРАЗДЕЛЕНИЕ 1  СЕРВИС 1  28.02.2019      0,843      0,009\n",
       "2       А_07  ПОДРАЗДЕЛЕНИЕ 1  СЕРВИС 1  31.03.2019      0,932      0,012\n",
       "3       А_07  ПОДРАЗДЕЛЕНИЕ 1  СЕРВИС 1  30.04.2019      0,826      0,005\n",
       "4       А_07  ПОДРАЗДЕЛЕНИЕ 1  СЕРВИС 1  31.05.2019      0,671      0,000\n",
       "5       А_07  ПОДРАЗДЕЛЕНИЕ 1  СЕРВИС 1  30.06.2019      0,697      0,000\n",
       "6       А_07  ПОДРАЗДЕЛЕНИЕ 1  СЕРВИС 1  31.07.2019      1,000      0,038\n",
       "7       А_07  ПОДРАЗДЕЛЕНИЕ 1  СЕРВИС 1  31.08.2019      0,887      0,097\n",
       "8       А_07  ПОДРАЗДЕЛЕНИЕ 1  СЕРВИС 1  30.09.2019      0,897      0,155\n",
       "9       А_07  ПОДРАЗДЕЛЕНИЕ 1  СЕРВИС 1  31.10.2019      0,877      0,221"
      ]
     },
     "execution_count": 12,
     "metadata": {},
     "output_type": "execute_result"
    }
   ],
   "source": [
    "df.head(10)  "
   ]
  },
  {
   "cell_type": "code",
   "execution_count": 13,
   "id": "5f60d425",
   "metadata": {
    "ExecuteTime": {
     "end_time": "2025-06-09T09:10:59.447594Z",
     "start_time": "2025-06-09T09:10:59.429755Z"
    }
   },
   "outputs": [
    {
     "name": "stdout",
     "output_type": "stream",
     "text": [
      "<class 'pandas.core.frame.DataFrame'>\n",
      "RangeIndex: 3322 entries, 0 to 3321\n",
      "Data columns (total 6 columns):\n",
      " #   Column      Non-Null Count  Dtype \n",
      "---  ------      --------------  ----- \n",
      " 0   Показатель  3322 non-null   object\n",
      " 1   Отдел       3322 non-null   object\n",
      " 2   Вид         3322 non-null   object\n",
      " 3   Период      3322 non-null   object\n",
      " 4   Значение_1  3318 non-null   object\n",
      " 5   Значение_2  3319 non-null   object\n",
      "dtypes: object(6)\n",
      "memory usage: 155.8+ KB\n"
     ]
    }
   ],
   "source": [
    "df.info()"
   ]
  },
  {
   "cell_type": "markdown",
   "id": "4e139913",
   "metadata": {},
   "source": [
    "## Видно, что тип даты object, хорошо бы сделать datetime для работы с датой"
   ]
  },
  {
   "cell_type": "markdown",
   "id": "50ac414e",
   "metadata": {},
   "source": [
    "## Для удобства работы лучше переименовать столбцы на английский"
   ]
  },
  {
   "cell_type": "code",
   "execution_count": 14,
   "id": "7f785e0e",
   "metadata": {
    "ExecuteTime": {
     "end_time": "2025-06-09T09:11:07.697159Z",
     "start_time": "2025-06-09T09:11:07.672463Z"
    }
   },
   "outputs": [
    {
     "data": {
      "text/html": [
       "<div>\n",
       "<style scoped>\n",
       "    .dataframe tbody tr th:only-of-type {\n",
       "        vertical-align: middle;\n",
       "    }\n",
       "\n",
       "    .dataframe tbody tr th {\n",
       "        vertical-align: top;\n",
       "    }\n",
       "\n",
       "    .dataframe thead th {\n",
       "        text-align: right;\n",
       "    }\n",
       "</style>\n",
       "<table border=\"1\" class=\"dataframe\">\n",
       "  <thead>\n",
       "    <tr style=\"text-align: right;\">\n",
       "      <th></th>\n",
       "      <th>count</th>\n",
       "      <th>unique</th>\n",
       "      <th>top</th>\n",
       "      <th>freq</th>\n",
       "    </tr>\n",
       "  </thead>\n",
       "  <tbody>\n",
       "    <tr>\n",
       "      <th>Показатель</th>\n",
       "      <td>3322</td>\n",
       "      <td>123</td>\n",
       "      <td>А_07</td>\n",
       "      <td>36</td>\n",
       "    </tr>\n",
       "    <tr>\n",
       "      <th>Отдел</th>\n",
       "      <td>3322</td>\n",
       "      <td>13</td>\n",
       "      <td>ПОДРАЗДЕЛЕНИЕ 2</td>\n",
       "      <td>667</td>\n",
       "    </tr>\n",
       "    <tr>\n",
       "      <th>Вид</th>\n",
       "      <td>3322</td>\n",
       "      <td>123</td>\n",
       "      <td>СЕРВИС 1</td>\n",
       "      <td>36</td>\n",
       "    </tr>\n",
       "    <tr>\n",
       "      <th>Период</th>\n",
       "      <td>3322</td>\n",
       "      <td>36</td>\n",
       "      <td>31.12.2021</td>\n",
       "      <td>122</td>\n",
       "    </tr>\n",
       "    <tr>\n",
       "      <th>Значение_1</th>\n",
       "      <td>3318</td>\n",
       "      <td>863</td>\n",
       "      <td>0,000</td>\n",
       "      <td>858</td>\n",
       "    </tr>\n",
       "    <tr>\n",
       "      <th>Значение_2</th>\n",
       "      <td>3319</td>\n",
       "      <td>829</td>\n",
       "      <td>0,000</td>\n",
       "      <td>1130</td>\n",
       "    </tr>\n",
       "  </tbody>\n",
       "</table>\n",
       "</div>"
      ],
      "text/plain": [
       "           count unique              top  freq\n",
       "Показатель  3322    123             А_07    36\n",
       "Отдел       3322     13  ПОДРАЗДЕЛЕНИЕ 2   667\n",
       "Вид         3322    123         СЕРВИС 1    36\n",
       "Период      3322     36       31.12.2021   122\n",
       "Значение_1  3318    863            0,000   858\n",
       "Значение_2  3319    829            0,000  1130"
      ]
     },
     "execution_count": 14,
     "metadata": {},
     "output_type": "execute_result"
    }
   ],
   "source": [
    "df.describe(include='all').T"
   ]
  },
  {
   "cell_type": "code",
   "execution_count": 29,
   "id": "fa2c06ac",
   "metadata": {
    "ExecuteTime": {
     "end_time": "2025-06-09T11:50:43.816141Z",
     "start_time": "2025-06-09T11:50:43.802289Z"
    }
   },
   "outputs": [],
   "source": [
    "rename = {\n",
    "    'Показатель': 'indicator',\n",
    "    'Отдел':'department',\n",
    "    'Вид':'category',\n",
    "    'Период':'period',\n",
    "    'Значение_1':'value_1',\n",
    "    'Значение_2':'value_2'\n",
    "}\n",
    "df.rename(columns=rename_map, inplace=True)"
   ]
  },
  {
   "cell_type": "code",
   "execution_count": 30,
   "id": "198f40ec",
   "metadata": {
    "ExecuteTime": {
     "end_time": "2025-06-09T11:50:44.470496Z",
     "start_time": "2025-06-09T11:50:44.453961Z"
    }
   },
   "outputs": [
    {
     "data": {
      "text/plain": [
       "Index(['indicator', 'department', 'category', 'period', 'value1', 'value2'], dtype='object')"
      ]
     },
     "execution_count": 30,
     "metadata": {},
     "output_type": "execute_result"
    }
   ],
   "source": [
    "df.columns"
   ]
  },
  {
   "cell_type": "markdown",
   "id": "fed37148",
   "metadata": {},
   "source": [
    "## Интересно какова доля пропусков в данных, ежели имеются"
   ]
  },
  {
   "cell_type": "code",
   "execution_count": 33,
   "id": "33a61913",
   "metadata": {
    "ExecuteTime": {
     "end_time": "2025-06-09T11:51:51.722972Z",
     "start_time": "2025-06-09T11:51:51.705300Z"
    }
   },
   "outputs": [
    {
     "data": {
      "text/plain": [
       "indicator     0.000000\n",
       "department    0.000000\n",
       "category      0.000000\n",
       "period        0.000000\n",
       "value1        0.120409\n",
       "value2        0.090307\n",
       "dtype: float64"
      ]
     },
     "execution_count": 33,
     "metadata": {},
     "output_type": "execute_result"
    }
   ],
   "source": [
    "# Процент пропусков в каждом столбце\n",
    "def miss(data):\n",
    "    return (data.isna().sum() / len(data)) * 100\n",
    "\n",
    "miss(df)"
   ]
  },
  {
   "cell_type": "code",
   "execution_count": 19,
   "id": "710c9bd1",
   "metadata": {
    "ExecuteTime": {
     "end_time": "2025-06-09T11:20:29.185482Z",
     "start_time": "2025-06-09T11:20:29.163106Z"
    }
   },
   "outputs": [],
   "source": [
    "## 3. Преобразование данных\n",
    "\n",
    "### 3.1 Преобразование столбца с датами\n",
    "# Столбец `Период` содержит даты в формате `DD.MM.YYYY`. Преобразуем его в datetime.\n",
    "# Конвертация в datetime (dayfirst=True для формата день.месяц.год)\n",
    "df['Период'] = pd.to_datetime(df['Период'], dayfirst=True)\n"
   ]
  },
  {
   "cell_type": "code",
   "execution_count": 20,
   "id": "361c5ae0",
   "metadata": {
    "ExecuteTime": {
     "end_time": "2025-06-09T11:20:34.371296Z",
     "start_time": "2025-06-09T11:20:34.363402Z"
    }
   },
   "outputs": [
    {
     "data": {
      "text/plain": [
       "(dtype('<M8[ns]'),\n",
       " 0   2019-01-31\n",
       " 1   2019-02-28\n",
       " 2   2019-03-31\n",
       " 3   2019-04-30\n",
       " 4   2019-05-31\n",
       " Name: Период, dtype: datetime64[ns])"
      ]
     },
     "execution_count": 20,
     "metadata": {},
     "output_type": "execute_result"
    }
   ],
   "source": [
    "# Проверим результат\n",
    "df['Период'].dtype, df['Период'].head()\n"
   ]
  },
  {
   "cell_type": "code",
   "execution_count": 24,
   "id": "dafb2de7",
   "metadata": {
    "ExecuteTime": {
     "end_time": "2025-06-09T11:21:06.003809Z",
     "start_time": "2025-06-09T11:21:05.991680Z"
    }
   },
   "outputs": [],
   "source": [
    "### 3.2 Переименование столбцов для удобства\n",
    "# Переименуем столбцы на английские, чтобы код был более читаем.\n",
    "\n"
   ]
  },
  {
   "cell_type": "code",
   "execution_count": 25,
   "id": "2ce79f12",
   "metadata": {
    "ExecuteTime": {
     "end_time": "2025-06-09T11:21:12.839980Z",
     "start_time": "2025-06-09T11:21:12.831163Z"
    }
   },
   "outputs": [
    {
     "data": {
      "text/plain": [
       "Index(['indicator', 'department', 'category', 'period', 'value1', 'value2'], dtype='object')"
      ]
     },
     "execution_count": 25,
     "metadata": {},
     "output_type": "execute_result"
    }
   ],
   "source": [
    "# Убедимся в изменениях\n",
    "\n"
   ]
  },
  {
   "cell_type": "code",
   "execution_count": null,
   "id": "64b81aaa",
   "metadata": {},
   "outputs": [],
   "source": []
  }
 ],
 "metadata": {
  "kernelspec": {
   "display_name": "Python 3.9 (tensorflow)",
   "language": "python",
   "name": "tensorflow"
  },
  "language_info": {
   "codemirror_mode": {
    "name": "ipython",
    "version": 3
   },
   "file_extension": ".py",
   "mimetype": "text/x-python",
   "name": "python",
   "nbconvert_exporter": "python",
   "pygments_lexer": "ipython3",
   "version": "3.9.13"
  },
  "toc": {
   "base_numbering": 1,
   "nav_menu": {},
   "number_sections": true,
   "sideBar": true,
   "skip_h1_title": false,
   "title_cell": "Table of Contents",
   "title_sidebar": "Contents",
   "toc_cell": false,
   "toc_position": {},
   "toc_section_display": true,
   "toc_window_display": false
  },
  "varInspector": {
   "cols": {
    "lenName": 16,
    "lenType": 16,
    "lenVar": 40
   },
   "kernels_config": {
    "python": {
     "delete_cmd_postfix": "",
     "delete_cmd_prefix": "del ",
     "library": "var_list.py",
     "varRefreshCmd": "print(var_dic_list())"
    },
    "r": {
     "delete_cmd_postfix": ") ",
     "delete_cmd_prefix": "rm(",
     "library": "var_list.r",
     "varRefreshCmd": "cat(var_dic_list()) "
    }
   },
   "types_to_exclude": [
    "module",
    "function",
    "builtin_function_or_method",
    "instance",
    "_Feature"
   ],
   "window_display": false
  }
 },
 "nbformat": 4,
 "nbformat_minor": 5
}
